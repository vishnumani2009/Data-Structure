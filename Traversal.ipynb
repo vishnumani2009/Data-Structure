{
 "cells": [
  {
   "cell_type": "code",
   "execution_count": 3,
   "metadata": {
    "collapsed": false
   },
   "outputs": [],
   "source": [
    "##Tree traversals"
   ]
  },
  {
   "cell_type": "code",
   "execution_count": 4,
   "metadata": {
    "collapsed": false
   },
   "outputs": [
    {
     "name": "stdout",
     "output_type": "stream",
     "text": [
      "Unlike linear data structures (Array, Linked List, Queues, Stacks, etc) which have only one\n",
      "logical way to traverse them,  trees can be traversed in different ways.\n",
      "Following are the generally used ways for traversing trees.\n",
      "\n",
      "Example Tree\n",
      "Example Tree\n",
      "\n",
      "Depth First Traversals:\n",
      "(a) Inorder (Left, Root, Right) : 4 2 5 1 3\n",
      "(b) Preorder (Root, Left, Right) : 1 2 4 5 3\n",
      "(c) Postorder (Left, Right, Root) : 4 5 2 3 1\n",
      "\n",
      "Breadth First or Level Order Traversal : 1 2 3 4 5\n",
      "Please see this post for Breadth First Traversal.\n",
      "\n",
      "Inorder Traversal:\n",
      "\n",
      "Algorithm Inorder(tree)\n",
      "   1. Traverse the left subtree, i.e., call Inorder(left-subtree)\n",
      "   2. Visit the root.\n",
      "   3. Traverse the right subtree, i.e., call Inorder(right-subtree)\n",
      "Uses of Inorder\n",
      "In case of binary search trees (BST), Inorder traversal gives nodes in non-decreasing order.\n",
      "To get nodes of BST in non-increasing order, a variation of Inorder traversal where Inorder itraversal s reversed,\n",
      "can be used. Example: Inorder traversal for the above given figure is 4 2 5 1 3.\n",
      "\n",
      "\n",
      "Practice Inorder Traversal\n",
      "\n",
      "\n",
      "Preorder Traversal:\n",
      "\n",
      "Algorithm Preorder(tree)\n",
      "   1. Visit the root.\n",
      "   2. Traverse the left subtree, i.e., call Preorder(left-subtree)\n",
      "   3. Traverse the right subtree, i.e., call Preorder(right-subtree) \n",
      "Uses of Preorder\n",
      "Preorder traversal is used to create a copy of the tree. \n",
      "Preorder traversal is also used to get prefix expression on of an expression tree. \n",
      "Please see http://en.wikipedia.org/wiki/Polish_notation to know why prefix expressions are useful.\n",
      "Example: Preorder traversal for the above given figure is 1 2 4 5 3.\n",
      "\n",
      "Practice Preorder Traversal\n",
      "\n",
      "\n",
      "Postorder Traversal:\n",
      "\n",
      "Algorithm Postorder(tree)\n",
      "   1. Traverse the left subtree, i.e., call Postorder(left-subtree)\n",
      "   2. Traverse the right subtree, i.e., call Postorder(right-subtree)\n",
      "   3. Visit the root.\n",
      "Uses of Postorder\n",
      "Postorder traversal is used to delete the tree. Please see the question for deletion of tree for details.\n",
      "Postorder traversal is also useful to get the postfix expression of an expression tree.\n",
      "Please see http://en.wikipedia.org/wiki/Reverse_Polish_notation to for the usage of postfix expression.\n",
      "\n"
     ]
    }
   ],
   "source": [
    "print '''Unlike linear data structures (Array, Linked List, Queues, Stacks, etc) which have only one\n",
    "logical way to traverse them,  trees can be traversed in different ways.\n",
    "Following are the generally used ways for traversing trees.\n",
    "\n",
    "Example Tree\n",
    "Example Tree\n",
    "\n",
    "Depth First Traversals:\n",
    "(a) Inorder (Left, Root, Right) : 4 2 5 1 3\n",
    "(b) Preorder (Root, Left, Right) : 1 2 4 5 3\n",
    "(c) Postorder (Left, Right, Root) : 4 5 2 3 1\n",
    "\n",
    "Breadth First or Level Order Traversal : 1 2 3 4 5\n",
    "Please see this post for Breadth First Traversal.\n",
    "\n",
    "Inorder Traversal:\n",
    "\n",
    "Algorithm Inorder(tree)\n",
    "   1. Traverse the left subtree, i.e., call Inorder(left-subtree)\n",
    "   2. Visit the root.\n",
    "   3. Traverse the right subtree, i.e., call Inorder(right-subtree)\n",
    "Uses of Inorder\n",
    "In case of binary search trees (BST), Inorder traversal gives nodes in non-decreasing order.\n",
    "To get nodes of BST in non-increasing order, a variation of Inorder traversal where Inorder itraversal s reversed,\n",
    "can be used. Example: Inorder traversal for the above given figure is 4 2 5 1 3.\n",
    "\n",
    "\n",
    "Practice Inorder Traversal\n",
    "\n",
    "\n",
    "Preorder Traversal:\n",
    "\n",
    "Algorithm Preorder(tree)\n",
    "   1. Visit the root.\n",
    "   2. Traverse the left subtree, i.e., call Preorder(left-subtree)\n",
    "   3. Traverse the right subtree, i.e., call Preorder(right-subtree) \n",
    "Uses of Preorder\n",
    "Preorder traversal is used to create a copy of the tree. \n",
    "Preorder traversal is also used to get prefix expression on of an expression tree. \n",
    "Please see http://en.wikipedia.org/wiki/Polish_notation to know why prefix expressions are useful.\n",
    "Example: Preorder traversal for the above given figure is 1 2 4 5 3.\n",
    "\n",
    "Practice Preorder Traversal\n",
    "\n",
    "\n",
    "Postorder Traversal:\n",
    "\n",
    "Algorithm Postorder(tree)\n",
    "   1. Traverse the left subtree, i.e., call Postorder(left-subtree)\n",
    "   2. Traverse the right subtree, i.e., call Postorder(right-subtree)\n",
    "   3. Visit the root.\n",
    "Uses of Postorder\n",
    "Postorder traversal is used to delete the tree. Please see the question for deletion of tree for details.\n",
    "Postorder traversal is also useful to get the postfix expression of an expression tree.\n",
    "Please see http://en.wikipedia.org/wiki/Reverse_Polish_notation to for the usage of postfix expression.\n",
    "'''"
   ]
  },
  {
   "cell_type": "code",
   "execution_count": 13,
   "metadata": {
    "collapsed": false
   },
   "outputs": [],
   "source": [
    "class Node:\n",
    "    def __init__(self,data):\n",
    "        self.data=data\n",
    "        self.left=None\n",
    "        self.right=None\n",
    "                    \n",
    "def inorder(root):\n",
    "        if root!=None:\n",
    "            inorder(root.right)\n",
    "            print root.data\n",
    "            inorder(root.left)\n",
    "            \n",
    "def preorder(root):\n",
    "        if root!=None:\n",
    "            print root.data            \n",
    "            inorder(root.left)\n",
    "            inorder(root.right)\n",
    "\n",
    "def postorder(root):\n",
    "        if root!=None:\n",
    "            inorder(root.left)\n",
    "            inorder(root.right)\n",
    "            print root.data\n",
    "\n",
    "def levelorder(root):\n",
    "    mylist=[]\n",
    "    tempnode=root\n",
    "    while tempnode!=None:\n",
    "        print tempnode.data\n",
    "        mylist.append(tempnode.left)\n",
    "        mylist.append(tempnode.right)\n",
    "        tempnode=mylist.pop(0)\n",
    "\n",
    "        \n",
    "\n",
    "    "
   ]
  },
  {
   "cell_type": "code",
   "execution_count": 24,
   "metadata": {
    "collapsed": false
   },
   "outputs": [],
   "source": [
    "obj=Node(0)\n",
    "obj.left=Node(1)\n",
    "obj.right=Node(2)\n",
    "obj.left.left=Node(3)\n",
    "obj.left.right=Node(4)\n",
    "obj.right.left=Node(5)\n",
    "obj.right.right=Node(6)\n"
   ]
  },
  {
   "cell_type": "code",
   "execution_count": 25,
   "metadata": {
    "collapsed": false
   },
   "outputs": [
    {
     "name": "stdout",
     "output_type": "stream",
     "text": [
      "0\n",
      "4\n",
      "1\n",
      "3\n",
      "6\n",
      "2\n",
      "5\n"
     ]
    }
   ],
   "source": [
    "preorder(obj)"
   ]
  },
  {
   "cell_type": "code",
   "execution_count": 26,
   "metadata": {
    "collapsed": false
   },
   "outputs": [
    {
     "name": "stdout",
     "output_type": "stream",
     "text": [
      "6\n",
      "2\n",
      "5\n",
      "0\n",
      "4\n",
      "1\n",
      "3\n"
     ]
    }
   ],
   "source": [
    "inorder(obj)"
   ]
  },
  {
   "cell_type": "code",
   "execution_count": 27,
   "metadata": {
    "collapsed": false
   },
   "outputs": [
    {
     "name": "stdout",
     "output_type": "stream",
     "text": [
      "4\n",
      "1\n",
      "3\n",
      "6\n",
      "2\n",
      "5\n",
      "0\n"
     ]
    }
   ],
   "source": [
    "postorder(obj)"
   ]
  },
  {
   "cell_type": "code",
   "execution_count": 28,
   "metadata": {
    "collapsed": false
   },
   "outputs": [
    {
     "name": "stdout",
     "output_type": "stream",
     "text": [
      "0\n",
      "1\n",
      "2\n",
      "3\n",
      "4\n",
      "5\n",
      "6\n"
     ]
    }
   ],
   "source": [
    "levelorder(obj)"
   ]
  },
  {
   "cell_type": "code",
   "execution_count": null,
   "metadata": {
    "collapsed": true
   },
   "outputs": [],
   "source": []
  }
 ],
 "metadata": {
  "kernelspec": {
   "display_name": "Python 2",
   "language": "python",
   "name": "python2"
  },
  "language_info": {
   "codemirror_mode": {
    "name": "ipython",
    "version": 2
   },
   "file_extension": ".py",
   "mimetype": "text/x-python",
   "name": "python",
   "nbconvert_exporter": "python",
   "pygments_lexer": "ipython2",
   "version": "2.7.11"
  }
 },
 "nbformat": 4,
 "nbformat_minor": 0
}
